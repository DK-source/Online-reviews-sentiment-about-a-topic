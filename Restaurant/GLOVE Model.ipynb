{
 "cells": [
  {
   "cell_type": "code",
   "execution_count": 19,
   "id": "c4576140",
   "metadata": {},
   "outputs": [],
   "source": [
    "import pandas as pd\n",
    "import numpy as np\n",
    "import matplotlib.pyplot as plt\n",
    "import re\n",
    "import string\n",
    "from tensorflow import keras\n",
    "\n",
    "from nltk.corpus import stopwords\n",
    "from nltk.tokenize import word_tokenize\n",
    "stop=set(stopwords.words('english'))\n",
    "\n",
    "from sklearn.model_selection import train_test_split\n",
    "from keras.preprocessing.text import Tokenizer\n",
    "from keras.preprocessing.sequence import pad_sequences\n",
    "from keras.models import Sequential\n",
    "from keras.optimizers import Adam\n",
    "from keras.initializers import Constant\n",
    "\n",
    "from tensorflow.keras.layers import Embedding, LSTM, Dense,SpatialDropout1D"
   ]
  },
  {
   "cell_type": "code",
   "execution_count": 2,
   "id": "00b2a516",
   "metadata": {},
   "outputs": [],
   "source": [
    "rest_train = pd.read_csv(\"./Datasets/yelp_review_polarity_csv/fixed_train.csv\")\n",
    "rest_test = pd.read_csv(\"./Datasets/yelp_review_polarity_csv/fixed_test.csv\")\n",
    "rest_df=pd.concat([rest_train,rest_test])"
   ]
  },
  {
   "cell_type": "code",
   "execution_count": 3,
   "id": "fab6a621",
   "metadata": {},
   "outputs": [],
   "source": [
    "def remove_URL(text):\n",
    "    url = re.compile(r'https?://\\S+|www\\.\\S+')\n",
    "    return url.sub(r'',text)\n",
    "def remove_html(text):\n",
    "    html=re.compile(r'<.*?>')\n",
    "    return html.sub(r'',text)\n",
    "def remove_emoji(text):\n",
    "    emoji_pattern = re.compile(\"[\"\n",
    "                           u\"\\U0001F600-\\U0001F64F\"  # emoticons\n",
    "                           u\"\\U0001F300-\\U0001F5FF\"  # symbols & pictographs\n",
    "                           u\"\\U0001F680-\\U0001F6FF\"  # transport & map symbols\n",
    "                           u\"\\U0001F1E0-\\U0001F1FF\"  # flags (iOS)\n",
    "                           u\"\\U00002702-\\U000027B0\"\n",
    "                           u\"\\U000024C2-\\U0001F251\"\n",
    "                           \"]+\", flags=re.UNICODE)\n",
    "    return emoji_pattern.sub(r'', text)\n",
    "def remove_punct(text):\n",
    "    table=str.maketrans('','',string.punctuation)\n",
    "    return text.translate(table)"
   ]
  },
  {
   "cell_type": "code",
   "execution_count": 21,
   "id": "2130ccd4",
   "metadata": {},
   "outputs": [],
   "source": [
    "def plot_learning_curves(history): \n",
    "    fig, ax = plt.subplots(1, 2, figsize = (20, 10))\n",
    "\n",
    "    ax[0].plot(history.history['accuracy'], color = 'red')\n",
    "    ax[0].plot(history.history['val_accuracy'], color = 'blue')\n",
    "\n",
    "    ax[1].plot(history.history['loss'], color='red')\n",
    "    ax[1].plot(history.history['val_loss'], color = 'blue')\n",
    "\n",
    "    ax[0].legend(['train', 'validation'], loc = 'upper left')\n",
    "    ax[1].legend(['train', 'validation'], loc = 'upper left')\n",
    "\n",
    "    fig.suptitle(\"Model Learning Curves\", fontsize=14)\n",
    "\n",
    "    ax[0].set_ylabel('Accuracy')\n",
    "    ax[0].set_xlabel('Epoch')\n",
    "    ax[1].set_ylabel('Loss')\n",
    "    ax[1].set_xlabel('Epoch')\n",
    "\n",
    "    return plt.show()"
   ]
  },
  {
   "cell_type": "code",
   "execution_count": 4,
   "id": "1278acef",
   "metadata": {},
   "outputs": [],
   "source": [
    "rest_df['review']=rest_df['review'].apply(lambda x : remove_URL(x))\n",
    "rest_df['review']=rest_df['review'].apply(lambda x : remove_html(x))\n",
    "rest_df['review']=rest_df['review'].apply(lambda x : remove_emoji(x))\n",
    "rest_df['review']=rest_df['review'].apply(lambda x : remove_punct(x))"
   ]
  },
  {
   "cell_type": "code",
   "execution_count": 5,
   "id": "ca6fb405",
   "metadata": {},
   "outputs": [],
   "source": [
    "embedding_dict={}\n",
    "MAX_LEN=50\n",
    "learning_rate=1e-5\n",
    "batch_size = 64\n",
    "epochs = 10"
   ]
  },
  {
   "cell_type": "code",
   "execution_count": 6,
   "id": "908ecf8f",
   "metadata": {},
   "outputs": [],
   "source": [
    "def create_corpus(df):\n",
    "    corpus=[]\n",
    "    for tweet in df['review']:\n",
    "        words=[word.lower() for word in word_tokenize(tweet) if((word.isalpha()==1) & (word not in stop))]\n",
    "        corpus.append(words)\n",
    "    return corpus\n",
    "corpus=create_corpus(rest_df)"
   ]
  },
  {
   "cell_type": "code",
   "execution_count": 8,
   "id": "87a7f4a4",
   "metadata": {},
   "outputs": [],
   "source": [
    "with open('./Datasets/glove.6B.100d.txt','r',encoding='utf-8') as f:\n",
    "    for line in f:\n",
    "        values=line.split()\n",
    "        word=values[0]\n",
    "        vectors=np.asarray(values[1:],'float32')\n",
    "        embedding_dict[word]=vectors\n",
    "f.close()"
   ]
  },
  {
   "cell_type": "code",
   "execution_count": 9,
   "id": "cdfe0b45",
   "metadata": {},
   "outputs": [],
   "source": [
    "tokenizer_obj=Tokenizer()\n",
    "tokenizer_obj.fit_on_texts(corpus)\n",
    "sequences=tokenizer_obj.texts_to_sequences(corpus)\n",
    "\n",
    "rest_pad=pad_sequences(sequences,maxlen=MAX_LEN,truncating='post',padding='post')\n",
    "word_index=tokenizer_obj.word_index"
   ]
  },
  {
   "cell_type": "code",
   "execution_count": 10,
   "id": "b45f5ce9",
   "metadata": {},
   "outputs": [],
   "source": [
    "num_words=len(word_index)+1\n",
    "embedding_matrix=np.zeros((num_words,100))\n",
    "\n",
    "for word,i in word_index.items():\n",
    "    if i > num_words:\n",
    "        continue  \n",
    "    emb_vec=embedding_dict.get(word)\n",
    "    if emb_vec is not None:\n",
    "        embedding_matrix[i]=emb_vec"
   ]
  },
  {
   "cell_type": "code",
   "execution_count": 11,
   "id": "d426dde9",
   "metadata": {},
   "outputs": [],
   "source": [
    "model=Sequential()\n",
    "\n",
    "embedding=Embedding(num_words,100,embeddings_initializer=Constant(embedding_matrix),\n",
    "                   input_length=MAX_LEN,trainable=False)\n",
    "\n",
    "model.add(embedding)\n",
    "model.add(SpatialDropout1D(0.2))\n",
    "model.add(LSTM(64, dropout=0.2, recurrent_dropout=0.2))\n",
    "model.add(Dense(1, activation='sigmoid'))\n",
    "\n",
    "optimzer=Adam(learning_rate=learning_rate)\n",
    "\n",
    "model.compile(loss='binary_crossentropy',optimizer=optimzer,metrics=['accuracy'])"
   ]
  },
  {
   "cell_type": "code",
   "execution_count": 12,
   "id": "6f446d09",
   "metadata": {},
   "outputs": [],
   "source": [
    "train = rest_pad[:rest_train.shape[0]]\n",
    "test = rest_pad[rest_train.shape[0]:]"
   ]
  },
  {
   "cell_type": "code",
   "execution_count": 13,
   "id": "97e40219",
   "metadata": {},
   "outputs": [],
   "source": [
    "X_train,X_test,y_train,y_test = train_test_split(train,rest_train['target'].values,test_size=0.20)"
   ]
  },
  {
   "cell_type": "code",
   "execution_count": 14,
   "id": "9899a417",
   "metadata": {
    "scrolled": false
   },
   "outputs": [
    {
     "name": "stdout",
     "output_type": "stream",
     "text": [
      "Epoch 1/10\n",
      "7000/7000 - 133s - loss: 0.6125 - accuracy: 0.6579 - val_loss: 0.5026 - val_accuracy: 0.7602\n",
      "Epoch 2/10\n",
      "7000/7000 - 131s - loss: 0.5257 - accuracy: 0.7413 - val_loss: 0.4705 - val_accuracy: 0.7796\n",
      "Epoch 3/10\n",
      "7000/7000 - 136s - loss: 0.5074 - accuracy: 0.7522 - val_loss: 0.4520 - val_accuracy: 0.7891\n",
      "Epoch 4/10\n",
      "7000/7000 - 139s - loss: 0.4937 - accuracy: 0.7606 - val_loss: 0.4411 - val_accuracy: 0.7950\n",
      "Epoch 5/10\n",
      "7000/7000 - 139s - loss: 0.4789 - accuracy: 0.7698 - val_loss: 0.4274 - val_accuracy: 0.8038\n",
      "Epoch 6/10\n",
      "7000/7000 - 140s - loss: 0.4650 - accuracy: 0.7770 - val_loss: 0.4149 - val_accuracy: 0.8094\n",
      "Epoch 7/10\n",
      "7000/7000 - 141s - loss: 0.4507 - accuracy: 0.7864 - val_loss: 0.4030 - val_accuracy: 0.8170\n",
      "Epoch 8/10\n",
      "7000/7000 - 139s - loss: 0.4388 - accuracy: 0.7927 - val_loss: 0.3949 - val_accuracy: 0.8228\n",
      "Epoch 9/10\n",
      "7000/7000 - 130s - loss: 0.4286 - accuracy: 0.7984 - val_loss: 0.3863 - val_accuracy: 0.8273\n",
      "Epoch 10/10\n",
      "7000/7000 - 134s - loss: 0.4211 - accuracy: 0.8032 - val_loss: 0.3852 - val_accuracy: 0.8297\n"
     ]
    }
   ],
   "source": [
    "history = model.fit(X_train, y_train, batch_size=batch_size, epochs=epochs, validation_data=(X_test,y_test), verbose=2)"
   ]
  },
  {
   "cell_type": "code",
   "execution_count": 22,
   "id": "78ff5f98",
   "metadata": {},
   "outputs": [
    {
     "data": {
      "image/png": "[encoded data removed]",
      "text/plain": [
       "<Figure size 1440x720 with 2 Axes>"
      ]
     },
     "metadata": {
      "needs_background": "light"
     },
     "output_type": "display_data"
    }
   ],
   "source": [
    "plot_learning_curves(history)"
   ]
  },
  {
   "cell_type": "code",
   "execution_count": 16,
   "id": "d6e1adb0",
   "metadata": {
    "scrolled": true
   },
   "outputs": [],
   "source": [
    "y_pre=model.predict(test)\n",
    "y_pre=np.round(y_pre).astype(int).reshape(len(y_pre))\n",
    "\n",
    "path = pd.read_csv(\"./Datasets/yelp_review_polarity_csv/fixed_test.csv\")\n",
    "original = path\n",
    "original.to_csv('./Output/Predicted_dataset.csv')\n",
    "predicted = pd.read_csv('./Output/Predicted_dataset.csv')\n",
    "predicted['target'] = y_pre\n",
    "predicted.to_csv('./Output/GloVe_Predicted_dataset.csv', index=False)"
   ]
  },
  {
   "cell_type": "code",
   "execution_count": null,
   "id": "6e8d48f0",
   "metadata": {},
   "outputs": [],
   "source": []
  }
 ],
 "metadata": {
  "kernelspec": {
   "display_name": "Python 3 (ipykernel)",
   "language": "python",
   "name": "python3"
  },
  "language_info": {
   "codemirror_mode": {
    "name": "ipython",
    "version": 3
   },
   "file_extension": ".py",
   "mimetype": "text/x-python",
   "name": "python",
   "nbconvert_exporter": "python",
   "pygments_lexer": "ipython3",
   "version": "3.8.13"
  }
 },
 "nbformat": 4,
 "nbformat_minor": 5
}
